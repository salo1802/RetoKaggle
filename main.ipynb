{
 "cells": [
  {
   "cell_type": "markdown",
   "metadata": {},
   "source": [
    "## CONFIG & HELPERS\n"
   ]
  },
  {
   "cell_type": "code",
   "metadata": {},
   "execution_count": null,
   "outputs": [],
   "source": [
    "# Install dependencies\n",
    "%pip install --quiet torch torchvision torchaudio tensorboard scikit-learn matplotlib pandas\n",
    "\n",
    "import os, math, random, numpy as np, pandas as pd\n",
    "import torch, torchvision, torch.nn as nn, torch.nn.functional as F\n",
    "from pathlib import Path\n",
    "from typing import Dict, Tuple\n",
    "\n",
    "def set_seed(seed=42):\n",
    "    random.seed(seed); np.random.seed(seed)\n",
    "    torch.manual_seed(seed); torch.cuda.manual_seed_all(seed)\n",
    "set_seed(42)\n",
    "\n",
    "device = 'cuda' if torch.cuda.is_available() else 'cpu'\n",
    "print('Device:', device)\n",
    "\n",
    "def get_output_shape(model: nn.Module, image_dim: Tuple[int,int,int,int]):\n",
    "    model.eval()\n",
    "    with torch.no_grad():\n",
    "        x = torch.randn(*image_dim, device=device)\n",
    "        out = model(x)\n",
    "        return tuple(out.shape)\n",
    "\n",
    "def xyxy_to_valid(b: torch.Tensor) -> torch.Tensor:\n",
    "    b = b.float().view(-1,4)\n",
    "    x1 = torch.minimum(b[:,0], b[:,2])\n",
    "    y1 = torch.minimum(b[:,1], b[:,3])\n",
    "    x2 = torch.maximum(b[:,0], b[:,2])\n",
    "    y2 = torch.maximum(b[:,1], b[:,3])\n",
    "    return torch.stack([x1,y1,x2,y2], dim=1)\n",
    "\n",
    "def clamp_01(b: torch.Tensor) -> torch.Tensor:\n",
    "    return b.clamp(0.0, 1.0)\n"
   ]
  },
  {
   "cell_type": "markdown",
   "metadata": {},
   "source": [
    "## DATA PREPARATION & EXPLORATION\n"
   ]
  },
  {
   "cell_type": "code",
   "metadata": {},
   "execution_count": null,
   "outputs": [],
   "source": [
    "# Load training data\n",
    "train_path = Path('fa-ii-2025-ii-object-localization/train.csv')\n",
    "train_df = pd.read_csv(train_path)\n",
    "print('Train samples:', len(train_df))\n",
    "display(train_df.head())\n",
    "\n",
    "# Class distribution\n",
    "print(train_df['class'].value_counts())\n"
   ]
  }
 ],
 "metadata": {
  "kernelspec": {
   "display_name": "Python 3",
   "language": "python",
   "name": "python3"
  },
  "language_info": {
   "name": "python",
   "version": "3.12"
  }
 },
 "nbformat": 4,
 "nbformat_minor": 5
}